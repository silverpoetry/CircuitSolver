{
 "cells": [
  {
   "cell_type": "markdown",
   "metadata": {},
   "source": [
    "# Circuit Solver by GSL\n",
    "\n",
    "<hr>\n",
    "\n",
    "<font color=\"red\">电路原理解算工作台</font> \n",
    "\n",
    "\n"
   ]
  },
  {
   "cell_type": "code",
   "execution_count": 4,
   "metadata": {},
   "outputs": [],
   "source": [
    "from Circuit import *\n",
    "from math import *"
   ]
  },
  {
   "cell_type": "code",
   "execution_count": 3,
   "metadata": {},
   "outputs": [
    {
     "output_type": "stream",
     "name": "stdout",
     "text": "-1.065\n"
    }
   ],
   "source": [
    "ans = ees(15).bing(6).chuan(12).bing(-1)\n",
    "print(ans)\n"
   ]
  },
  {
   "cell_type": "code",
   "execution_count": 13,
   "metadata": {},
   "outputs": [
    {
     "output_type": "stream",
     "name": "stdout",
     "text": "11.923+-4.615j\n"
    }
   ],
   "source": [
    "a=ees(-15j).bing(10).chuan(5)\n",
    "pr`int(a)"
   ]
  },
  {
   "cell_type": "code",
   "execution_count": 5,
   "metadata": {},
   "outputs": [
    {
     "output_type": "stream",
     "name": "stdout",
     "text": "11.923-4.615j\n"
    }
   ],
   "source": [
    "a= ees(-15j).bing(10).chuan(5)\n",
    "print(a)"
   ]
  },
  {
   "cell_type": "code",
   "execution_count": 5,
   "metadata": {},
   "outputs": [
    {
     "output_type": "stream",
     "name": "stdout",
     "text": "7.938+0.048j\n24.881-23.457j\n32.818-23.409j\n11.790-3.605j\n"
    }
   ],
   "source": [
    "z1= 20;z2=15-10j;z3=5+7j;z4=-20j\n",
    "zzhi = ees(z2).chuan(ees(z3).bing(z4))\n",
    "Izhi = z1/(z1+zzhi.complex)*(ModAngToComplex(1,30))\n",
    "uab1 = z2*Izhi\n",
    "print(ees(uab1))\n",
    "i2 = ModAngToComplex(50,-60)/(ees(z2).chuan(ees(z3).bing(z4)).chuan(z1).complex)\n",
    "uab2=ModAngToComplex(50,-60) -z2*i2\n",
    "print(ees(uab2))\n",
    "print(ees(uab1+uab2))\n",
    "print( ees(z2).bing(  ees(z3).bing(z4).chuan(z1)  )   )\n",
    "print(ees(ees(uab1+uab2)).mod/11.79)"
   ]
  },
  {
   "cell_type": "markdown",
   "metadata": {},
   "source": []
  }
 ],
 "metadata": {
  "language_info": {
   "codemirror_mode": {
    "name": "ipython",
    "version": 3
   },
   "file_extension": ".py",
   "mimetype": "text/x-python",
   "name": "python",
   "nbconvert_exporter": "python",
   "pygments_lexer": "ipython3",
   "version": "3.7.6-final"
  },
  "orig_nbformat": 2,
  "kernelspec": {
   "name": "python3",
   "display_name": "Python 3"
  }
 },
 "nbformat": 4,
 "nbformat_minor": 2
}