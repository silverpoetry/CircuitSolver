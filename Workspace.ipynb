{
 "cells": [
  {
   "cell_type": "markdown",
   "metadata": {},
   "source": [
    "# Circuit Solver by GSL\n",
    "\n",
    "<hr>\n",
    "\n",
    "<font color=\"red\">电路原理解算工作台</font> \n",
    "\n",
    "\n"
   ]
  },
  {
   "cell_type": "code",
   "execution_count": 1,
   "metadata": {},
   "outputs": [],
   "source": [
    "from Circuit import *\n",
    "from math import *"
   ]
  },
  {
   "cell_type": "code",
   "execution_count": 2,
   "metadata": {},
   "outputs": [
    {
     "output_type": "stream",
     "name": "stdout",
     "text": "-1.065\n"
    }
   ],
   "source": [
    "ans = ees(15).bing(6).chuan(12).bing(-1)\n",
    "print(ans)\n",
    "\n"
   ]
  },
  {
   "cell_type": "code",
   "execution_count": 13,
   "metadata": {},
   "outputs": [
    {
     "output_type": "stream",
     "name": "stdout",
     "text": "11.923+-4.615j\n"
    }
   ],
   "source": [
    "a=ees(-15j).bing(10).chuan(5)\n",
    "pr`int(a)`"
   ]
  },
  {
   "cell_type": "markdown",
   "metadata": {},
   "source": [
    "$$\n",
    "C = \\frac{P}{\\omega U^2} (\\tan \\phi _1 - \\tan \\phi _2)\n",
    "$$\n"
   ]
  },
  {
   "cell_type": "code",
   "execution_count": 2,
   "metadata": {},
   "outputs": [
    {
     "output_type": "execute_result",
     "data": {
      "text/plain": "314.1592653589793"
     },
     "metadata": {},
     "execution_count": 2
    }
   ],
   "source": [
    "2*pi*50"
   ]
  },
  {
   "cell_type": "code",
   "execution_count": 3,
   "metadata": {},
   "outputs": [
    {
     "output_type": "execute_result",
     "data": {
      "text/plain": "7.757411065178847e-05"
     },
     "metadata": {},
     "execution_count": 3
    }
   ],
   "source": [
    " P = 2200 \n",
    " u= 220\n",
    " def costotan(coss):\n",
    "     rec= acos(coss)\n",
    "     return tan(rec)\n",
    "\n",
    "P/314/u/u*(costotan(0.7)-costotan(0.9))"
   ]
  },
  {
   "cell_type": "code",
   "execution_count": 4,
   "metadata": {},
   "outputs": [
    {
     "output_type": "execute_result",
     "data": {
      "text/plain": "(0.24999999999999997+0.9682458365518541j)"
     },
     "metadata": {},
     "execution_count": 4
    }
   ],
   "source": [
    "3/(ModAngToComplex(3,-acos(1/4)*180/pi))"
   ]
  },
  {
   "cell_type": "code",
   "execution_count": 7,
   "metadata": {},
   "outputs": [
    {
     "output_type": "execute_result",
     "data": {
      "text/plain": "(0.24999999999999997+0.9682458365518541j)"
     },
     "metadata": {},
     "execution_count": 7
    }
   ],
   "source": [
    "3/(3*(1/4-sqrt(15)*1j/4))"
   ]
  },
  {
   "cell_type": "code",
   "execution_count": 5,
   "metadata": {},
   "outputs": [
    {
     "output_type": "stream",
     "name": "stdout",
     "text": "28.868+50.000j 57.735+100.000j 86.603+150.000j 86.603-50.000j 0.000+400.000j\n"
    }
   ],
   "source": [
    "Us= ModAngToComplex(100,30);Is=ModAngToComplex(4,60);Z1=Z3=ModAngToComplex(50,30);Z2=ModAngToComplex(50,-30);\n",
    "u31=Us*Z3/(Z2+Z3)\n",
    "u32=Is*Z3*Z2/(Z2+Z3)\n",
    "U3=u31+u32\n",
    "Uis=U3-Is*Z1\n",
    "`\n",
    "P = Us*Is\n",
    "print(ees(u31),ees(u32),ees(U3),ees(Uis),ees(P))"
   ]
  },
  {
   "cell_type": "code",
   "execution_count": 16,
   "metadata": {},
   "outputs": [
    {
     "output_type": "execute_result",
     "data": {
      "text/plain": "0.5225961701712951"
     },
     "metadata": {},
     "execution_count": 16
    }
   ],
   "source": [
    "Ishi = 42000/220\n",
    "ixu = sqrt(318**2-Ishi**2)\n",
    "ideng=20000/220\n",
    "ic=ixu-sqrt(325**2-(ideng+Ishi)**2)\n",
    "w=2*pi*50\n",
    "acos((ideng+Ishi)/325)\n",
    "atan((254.3-92.44)/(190.1+90.9))"
   ]
  },
  {
   "cell_type": "code",
   "execution_count": 6,
   "metadata": {},
   "outputs": [
    {
     "output_type": "execute_result",
     "data": {
      "text/plain": "(0.7407407407407406+2.8688765527462343j)"
     },
     "metadata": {},
     "execution_count": 6
    }
   ],
   "source": [
    "cosrule(3,4.5,6)\n",
    "\n",
    "60/(4.5*ModAngToComplex(4.5,-acos(0.25)*180/pi))\n",
    "mod(ModAngToComplex(4.5,-acos(0.25)*180/pi))"
   ]
  }
 ],
 "metadata": {
  "language_info": {
   "codemirror_mode": {
    "name": "ipython",
    "version": 3
   },
   "file_extension": ".py",
   "mimetype": "text/x-python",
   "name": "python",
   "nbconvert_exporter": "python",
   "pygments_lexer": "ipython3",
   "version": "3.7.6-final"
  },
  "orig_nbformat": 2,
  "kernelspec": {
   "name": "python3",
   "display_name": "Python 3"
  }
 },
 "nbformat": 4,
 "nbformat_minor": 2
}